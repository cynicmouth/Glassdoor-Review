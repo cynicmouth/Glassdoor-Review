{
 "cells": [
  {
   "cell_type": "markdown",
   "metadata": {},
   "source": [
    "#### Thanks to the tutorial i found __[here](https://www.machinelearningplus.com/nlp/topic-modeling-gensim-python/)__, I was able to build this out fairly quickly and get a pretty general understanding in spaCy and Gensim\n",
    "<br>\n",
    "Import base packages and previously cleaned data\n",
    "<br>\n",
    "Also recall that there's some input language issues we are facing and we want to only use English comments, hence we only used English words match via NTLK stopwords\n",
    "\n",
    "Loading basic package and dataset:"
   ]
  },
  {
   "cell_type": "code",
   "execution_count": 1,
   "metadata": {},
   "outputs": [],
   "source": [
    "import numpy as np\n",
    "import pandas as pd\n",
    "from pprint import pprint\n",
    "import matplotlib.pyplot as plt\n",
    "%matplotlib inline\n",
    "%store -r df_clean"
   ]
  },
  {
   "cell_type": "code",
   "execution_count": 2,
   "metadata": {},
   "outputs": [
    {
     "data": {
      "text/html": [
       "<div>\n",
       "<style scoped>\n",
       "    .dataframe tbody tr th:only-of-type {\n",
       "        vertical-align: middle;\n",
       "    }\n",
       "\n",
       "    .dataframe tbody tr th {\n",
       "        vertical-align: top;\n",
       "    }\n",
       "\n",
       "    .dataframe thead th {\n",
       "        text-align: right;\n",
       "    }\n",
       "</style>\n",
       "<table border=\"1\" class=\"dataframe\">\n",
       "  <thead>\n",
       "    <tr style=\"text-align: right;\">\n",
       "      <th></th>\n",
       "      <th>date</th>\n",
       "      <th>reviewNo</th>\n",
       "      <th>type</th>\n",
       "      <th>position</th>\n",
       "      <th>summary</th>\n",
       "      <th>pro</th>\n",
       "      <th>con</th>\n",
       "      <th>advice</th>\n",
       "      <th>overallStar</th>\n",
       "      <th>record</th>\n",
       "      <th>pro_lan</th>\n",
       "      <th>con_lan</th>\n",
       "    </tr>\n",
       "  </thead>\n",
       "  <tbody>\n",
       "    <tr>\n",
       "      <th>0</th>\n",
       "      <td>Jun 29, 2018</td>\n",
       "      <td>empReview_21272752</td>\n",
       "      <td>Former Employee</td>\n",
       "      <td>Anonymous Employee</td>\n",
       "      <td>Great Place to Work!</td>\n",
       "      <td>Great technology and great people</td>\n",
       "      <td>Some district managers could use more time in ...</td>\n",
       "      <td>Follow up more</td>\n",
       "      <td>5.0</td>\n",
       "      <td>1</td>\n",
       "      <td>english</td>\n",
       "      <td>english</td>\n",
       "    </tr>\n",
       "    <tr>\n",
       "      <th>1</th>\n",
       "      <td>Aug 28, 2014</td>\n",
       "      <td>empReview_4870579</td>\n",
       "      <td>Current Employee</td>\n",
       "      <td>Anonymous Employee</td>\n",
       "      <td>Challenging, Rewarding, but ZERO work/life bal...</td>\n",
       "      <td>We work with geniuses - in every department, W...</td>\n",
       "      <td>ZERO ZERO ZERO work/life balance. Execs have b...</td>\n",
       "      <td>None</td>\n",
       "      <td>4.0</td>\n",
       "      <td>1</td>\n",
       "      <td>english</td>\n",
       "      <td>english</td>\n",
       "    </tr>\n",
       "    <tr>\n",
       "      <th>2</th>\n",
       "      <td>Mar 10, 2017</td>\n",
       "      <td>empReview_14128330</td>\n",
       "      <td>Current Employee</td>\n",
       "      <td>Specialist</td>\n",
       "      <td>A Company as Meticulous as Their Products!</td>\n",
       "      <td>Competitive Pay, Great Benefits, Amazing Peopl...</td>\n",
       "      <td>None! I had one of the best times ever at this...</td>\n",
       "      <td>You guys are awesome. Keep up the good work!</td>\n",
       "      <td>5.0</td>\n",
       "      <td>1</td>\n",
       "      <td>english</td>\n",
       "      <td>english</td>\n",
       "    </tr>\n",
       "    <tr>\n",
       "      <th>3</th>\n",
       "      <td>May 13, 2015</td>\n",
       "      <td>empReview_6585844</td>\n",
       "      <td>Current Employee</td>\n",
       "      <td>Apple At Home Advisor</td>\n",
       "      <td>At-Home-Advisor</td>\n",
       "      <td>The position is at home. The company is AMAZIN...</td>\n",
       "      <td>The schedule changes every 90 days and you hav...</td>\n",
       "      <td>The management consists of a team manager and ...</td>\n",
       "      <td>5.0</td>\n",
       "      <td>1</td>\n",
       "      <td>english</td>\n",
       "      <td>english</td>\n",
       "    </tr>\n",
       "    <tr>\n",
       "      <th>4</th>\n",
       "      <td>Jan 22, 2016</td>\n",
       "      <td>empReview_9295224</td>\n",
       "      <td>Current Employee</td>\n",
       "      <td>Software Engineer IV</td>\n",
       "      <td>Changing the world (in a small way)</td>\n",
       "      <td>Working at Apple means that the things you wor...</td>\n",
       "      <td>It's a lot of work, teams are usually strapped...</td>\n",
       "      <td>Keep fighting for \"what's right\". Renewable en...</td>\n",
       "      <td>5.0</td>\n",
       "      <td>1</td>\n",
       "      <td>english</td>\n",
       "      <td>english</td>\n",
       "    </tr>\n",
       "  </tbody>\n",
       "</table>\n",
       "</div>"
      ],
      "text/plain": [
       "            date            reviewNo               type  \\\n",
       "0   Jun 29, 2018  empReview_21272752   Former Employee    \n",
       "1   Aug 28, 2014   empReview_4870579  Current Employee    \n",
       "2   Mar 10, 2017  empReview_14128330  Current Employee    \n",
       "3   May 13, 2015   empReview_6585844  Current Employee    \n",
       "4   Jan 22, 2016   empReview_9295224  Current Employee    \n",
       "\n",
       "                 position                                            summary  \\\n",
       "0      Anonymous Employee                               Great Place to Work!   \n",
       "1      Anonymous Employee  Challenging, Rewarding, but ZERO work/life bal...   \n",
       "2              Specialist         A Company as Meticulous as Their Products!   \n",
       "3   Apple At Home Advisor                                    At-Home-Advisor   \n",
       "4    Software Engineer IV                Changing the world (in a small way)   \n",
       "\n",
       "                                                 pro  \\\n",
       "0                  Great technology and great people   \n",
       "1  We work with geniuses - in every department, W...   \n",
       "2  Competitive Pay, Great Benefits, Amazing Peopl...   \n",
       "3  The position is at home. The company is AMAZIN...   \n",
       "4  Working at Apple means that the things you wor...   \n",
       "\n",
       "                                                 con  \\\n",
       "0  Some district managers could use more time in ...   \n",
       "1  ZERO ZERO ZERO work/life balance. Execs have b...   \n",
       "2  None! I had one of the best times ever at this...   \n",
       "3  The schedule changes every 90 days and you hav...   \n",
       "4  It's a lot of work, teams are usually strapped...   \n",
       "\n",
       "                                              advice  overallStar  record  \\\n",
       "0                                     Follow up more          5.0       1   \n",
       "1                                               None          4.0       1   \n",
       "2       You guys are awesome. Keep up the good work!          5.0       1   \n",
       "3  The management consists of a team manager and ...          5.0       1   \n",
       "4  Keep fighting for \"what's right\". Renewable en...          5.0       1   \n",
       "\n",
       "   pro_lan  con_lan  \n",
       "0  english  english  \n",
       "1  english  english  \n",
       "2  english  english  \n",
       "3  english  english  \n",
       "4  english  english  "
      ]
     },
     "execution_count": 2,
     "metadata": {},
     "output_type": "execute_result"
    }
   ],
   "source": [
    "# a lot of comments dont have stop words so it's a littile bit harder than expected to id language\n",
    "df_clean = df_clean.loc[(df_clean.pro_lan == 'english' )& (df_clean.con_lan == 'english'),:]\n",
    "\n",
    "df_clean.head()"
   ]
  },
  {
   "cell_type": "markdown",
   "metadata": {},
   "source": [
    "We'll be using primarily spaCy and Gensim for Topic Modeling as NLTK has been proved good for research but not for fast and scalable solution <br>"
   ]
  },
  {
   "cell_type": "code",
   "execution_count": 3,
   "metadata": {},
   "outputs": [],
   "source": [
    "import spacy\n",
    "from nltk.corpus import stopwords\n",
    "\n",
    "nlp = spacy.load('en_core_web_sm') #load spaCy english preprocessing pipline\n",
    "stopwords = set(stopwords.words('english')) # load stopwords from NLTK\n",
    "# adding stopwords if needed => stopwords added as a result of topic modeling\n",
    "stopwords.add('apple')\n",
    "stopwords.add('be')\n",
    "stopwords.add('retail')\n",
    "stopwords.add('work')\n",
    "# adding stopwords to spaCy pipeline\n",
    "for word in stopwords:\n",
    "    lexeme = nlp.vocab[word]\n",
    "    lexeme.is_stop = True\n",
    "\n",
    "doc = nlp(df_clean.pro[0].lower())"
   ]
  },
  {
   "cell_type": "markdown",
   "metadata": {},
   "source": [
    "#### Some great things about spaCy:\n",
    "- Dependency Parsing\n",
    "- Entity Detection"
   ]
  },
  {
   "cell_type": "code",
   "execution_count": 4,
   "metadata": {},
   "outputs": [
    {
     "data": {
      "text/html": [
       "<svg xmlns=\"http://www.w3.org/2000/svg\" xmlns:xlink=\"http://www.w3.org/1999/xlink\" id=\"0\" class=\"displacy\" width=\"925\" height=\"312.0\" style=\"max-width: none; height: 312.0px; color: #000000; background: #ffffff; font-family: Arial\"><text class=\"displacy-token\" fill=\"currentColor\" text-anchor=\"middle\" y=\"222.0\"><tspan class=\"displacy-word\" fill=\"currentColor\" x=\"50\">great</tspan><tspan class=\"displacy-tag\" dy=\"2em\" fill=\"currentColor\" x=\"50\">ADJ</tspan></text><text class=\"displacy-token\" fill=\"currentColor\" text-anchor=\"middle\" y=\"222.0\"><tspan class=\"displacy-word\" fill=\"currentColor\" x=\"225\">technology</tspan><tspan class=\"displacy-tag\" dy=\"2em\" fill=\"currentColor\" x=\"225\">NOUN</tspan></text><text class=\"displacy-token\" fill=\"currentColor\" text-anchor=\"middle\" y=\"222.0\"><tspan class=\"displacy-word\" fill=\"currentColor\" x=\"400\">and</tspan><tspan class=\"displacy-tag\" dy=\"2em\" fill=\"currentColor\" x=\"400\">CCONJ</tspan></text><text class=\"displacy-token\" fill=\"currentColor\" text-anchor=\"middle\" y=\"222.0\"><tspan class=\"displacy-word\" fill=\"currentColor\" x=\"575\">great</tspan><tspan class=\"displacy-tag\" dy=\"2em\" fill=\"currentColor\" x=\"575\">ADJ</tspan></text><text class=\"displacy-token\" fill=\"currentColor\" text-anchor=\"middle\" y=\"222.0\"><tspan class=\"displacy-word\" fill=\"currentColor\" x=\"750\">people</tspan><tspan class=\"displacy-tag\" dy=\"2em\" fill=\"currentColor\" x=\"750\">NOUN</tspan></text><g class=\"displacy-arrow\"><path class=\"displacy-arc\" id=\"arrow-0-0\" stroke-width=\"2px\" d=\"M70,177.0 C70,89.5 220.0,89.5 220.0,177.0\" fill=\"none\" stroke=\"currentColor\"/><text dy=\"1.25em\" style=\"font-size: 0.8em; letter-spacing: 1px\"><textPath xlink:href=\"#arrow-0-0\" class=\"displacy-label\" startOffset=\"50%\" fill=\"currentColor\" text-anchor=\"middle\">amod</textPath></text><path class=\"displacy-arrowhead\" d=\"M70,179.0 L62,167.0 78,167.0\" fill=\"currentColor\"/></g><g class=\"displacy-arrow\"><path class=\"displacy-arc\" id=\"arrow-0-1\" stroke-width=\"2px\" d=\"M245,177.0 C245,89.5 395.0,89.5 395.0,177.0\" fill=\"none\" stroke=\"currentColor\"/><text dy=\"1.25em\" style=\"font-size: 0.8em; letter-spacing: 1px\"><textPath xlink:href=\"#arrow-0-1\" class=\"displacy-label\" startOffset=\"50%\" fill=\"currentColor\" text-anchor=\"middle\">cc</textPath></text><path class=\"displacy-arrowhead\" d=\"M395.0,179.0 L403.0,167.0 387.0,167.0\" fill=\"currentColor\"/></g><g class=\"displacy-arrow\"><path class=\"displacy-arc\" id=\"arrow-0-2\" stroke-width=\"2px\" d=\"M595,177.0 C595,89.5 745.0,89.5 745.0,177.0\" fill=\"none\" stroke=\"currentColor\"/><text dy=\"1.25em\" style=\"font-size: 0.8em; letter-spacing: 1px\"><textPath xlink:href=\"#arrow-0-2\" class=\"displacy-label\" startOffset=\"50%\" fill=\"currentColor\" text-anchor=\"middle\">amod</textPath></text><path class=\"displacy-arrowhead\" d=\"M595,179.0 L587,167.0 603,167.0\" fill=\"currentColor\"/></g><g class=\"displacy-arrow\"><path class=\"displacy-arc\" id=\"arrow-0-3\" stroke-width=\"2px\" d=\"M245,177.0 C245,2.0 750.0,2.0 750.0,177.0\" fill=\"none\" stroke=\"currentColor\"/><text dy=\"1.25em\" style=\"font-size: 0.8em; letter-spacing: 1px\"><textPath xlink:href=\"#arrow-0-3\" class=\"displacy-label\" startOffset=\"50%\" fill=\"currentColor\" text-anchor=\"middle\">conj</textPath></text><path class=\"displacy-arrowhead\" d=\"M750.0,179.0 L758.0,167.0 742.0,167.0\" fill=\"currentColor\"/></g></svg>"
      ],
      "text/plain": [
       "<IPython.core.display.HTML object>"
      ]
     },
     "metadata": {},
     "output_type": "display_data"
    }
   ],
   "source": [
    "# dependency parsing\n",
    "from spacy import displacy\n",
    "displacy.render(doc, style='dep', minify = True,jupyter=True)"
   ]
  },
  {
   "cell_type": "code",
   "execution_count": 5,
   "metadata": {},
   "outputs": [
    {
     "data": {
      "text/html": [
       "<div class=\"entities\" style=\"line-height: 2.5\">Working at \n",
       "<mark class=\"entity\" style=\"background: #7aecec; padding: 0.45em 0.6em; margin: 0 0.25em; line-height: 1; border-radius: 0.35em; box-decoration-break: clone; -webkit-box-decoration-break: clone\">\n",
       "    Apple\n",
       "    <span style=\"font-size: 0.8em; font-weight: bold; line-height: 1; border-radius: 0.35em; text-transform: uppercase; vertical-align: middle; margin-left: 0.5rem\">ORG</span>\n",
       "</mark>\n",
       " means that the things you work on get into the hands of \n",
       "<mark class=\"entity\" style=\"background: #e4e7d2; padding: 0.45em 0.6em; margin: 0 0.25em; line-height: 1; border-radius: 0.35em; box-decoration-break: clone; -webkit-box-decoration-break: clone\">\n",
       "    hundreds of millions\n",
       "    <span style=\"font-size: 0.8em; font-weight: bold; line-height: 1; border-radius: 0.35em; text-transform: uppercase; vertical-align: middle; margin-left: 0.5rem\">CARDINAL</span>\n",
       "</mark>\n",
       " of people, literally. It's a lot of pressure to get things right and drives \n",
       "<mark class=\"entity\" style=\"background: #e4e7d2; padding: 0.45em 0.6em; margin: 0 0.25em; line-height: 1; border-radius: 0.35em; box-decoration-break: clone; -webkit-box-decoration-break: clone\">\n",
       "    one\n",
       "    <span style=\"font-size: 0.8em; font-weight: bold; line-height: 1; border-radius: 0.35em; text-transform: uppercase; vertical-align: middle; margin-left: 0.5rem\">CARDINAL</span>\n",
       "</mark>\n",
       " to do the best work of their lives. \n",
       "<mark class=\"entity\" style=\"background: #bfe1d9; padding: 0.45em 0.6em; margin: 0 0.25em; line-height: 1; border-radius: 0.35em; box-decoration-break: clone; -webkit-box-decoration-break: clone\">\n",
       "    2+ years later\n",
       "    <span style=\"font-size: 0.8em; font-weight: bold; line-height: 1; border-radius: 0.35em; text-transform: uppercase; vertical-align: middle; margin-left: 0.5rem\">DATE</span>\n",
       "</mark>\n",
       " I'm still blown away by the talent and creativity of people I work with.</div>"
      ],
      "text/plain": [
       "<IPython.core.display.HTML object>"
      ]
     },
     "metadata": {},
     "output_type": "display_data"
    }
   ],
   "source": [
    "# entity detection\n",
    "displacy.render(nlp(df_clean.pro[4]), style = 'ent', jupyter = True)"
   ]
  },
  {
   "cell_type": "markdown",
   "metadata": {},
   "source": [
    "*Note that if you convert all the text into lower case, 'Apple' won't be detected as an ORG*"
   ]
  },
  {
   "cell_type": "markdown",
   "metadata": {},
   "source": [
    "#### Text Preprocessing"
   ]
  },
  {
   "cell_type": "markdown",
   "metadata": {},
   "source": [
    "---\n",
    "Still there are some preprocessing steps we need to do\n",
    "- Lemmatization\n",
    "- Creating Bi/Tri Grams for Topic Modeling"
   ]
  },
  {
   "cell_type": "code",
   "execution_count": 6,
   "metadata": {},
   "outputs": [
    {
     "name": "stdout",
     "output_type": "stream",
     "text": [
      "['great', 'technology', 'great', 'people']\n"
     ]
    }
   ],
   "source": [
    "# lemmatization\n",
    "test_doc = [''.join(w.lemma_) for w in doc if not w.is_stop and not w.is_punct]\n",
    "print(test_doc)"
   ]
  },
  {
   "cell_type": "code",
   "execution_count": 7,
   "metadata": {},
   "outputs": [],
   "source": [
    "# now writing a function to pre-processing any given df.col\n",
    "def spacy_preprocess(dfcol):\n",
    "    '''input df.col and return a list of lists of preprocessed texts using spaCy'''\n",
    "    col_comment = []\n",
    "    for comment in dfcol:\n",
    "        if type(comment) is str:\n",
    "            preprocess = nlp(comment.lower())\n",
    "        text = [(w.lemma_) for w in preprocess if not w.is_stop and not w.is_punct and not w.like_num] # also remove numbers\n",
    "        col_comment.append(text)\n",
    "    return col_comment #output a list of lists\n"
   ]
  },
  {
   "cell_type": "code",
   "execution_count": 8,
   "metadata": {},
   "outputs": [
    {
     "name": "stdout",
     "output_type": "stream",
     "text": [
      "['great', 'technology', 'great', 'people']\n"
     ]
    }
   ],
   "source": [
    "summary_list, pro_list, con_list = spacy_preprocess(\n",
    "    df_clean.summary), spacy_preprocess(df_clean.pro),spacy_preprocess(df_clean.con)\n",
    "print(pro_list[0])"
   ]
  },
  {
   "cell_type": "markdown",
   "metadata": {},
   "source": [
    "Now using the processed corpus to generate bi/tri grams depending on word frequency, using Gensim"
   ]
  },
  {
   "cell_type": "code",
   "execution_count": 9,
   "metadata": {},
   "outputs": [
    {
     "name": "stdout",
     "output_type": "stream",
     "text": [
      "['position', 'home', 'company', 'amazing', 'limitless', 'advancement', 'opportunity', 'cool', 'people', 'leadership', 'care', 'development', 'coach', 'batter', 'belittle', 'pay', 'decent', 'benefit', 'include', '401(k', 'match', 'stock', 'purchase', 'option', 'product', 'discount', 'discount', 'service', 'different', 'area', 'education', 'assistance', 'child', 'care', 'assistance', 'pay', 'vacation_sick', 'time', 'time', 'option', 'health', 'club', 'reimbursment', 'bike', 'cost', 'set', 'time', 'ot', 'be', 'pretty', 'unlimited', 'long', 'not', 'exceed', 'hour', 'day', 'total', 'week']\n"
     ]
    }
   ],
   "source": [
    "import gensim\n",
    "import warnings\n",
    "warnings.filterwarnings(action='ignore') #ignore user warnings\n",
    "\n",
    "bigram = gensim.models.Phrases(pro_list, min_count = 10, threshold = 100) #using higer threshold for fewer phrases\n",
    "bigram_mod = gensim.models.phrases.Phraser(bigram)\n",
    "\n",
    "print(bigram_mod[bigram_mod[pro_list[3]]])"
   ]
  },
  {
   "cell_type": "markdown",
   "metadata": {},
   "source": [
    "We separate preprocessing & bi-gram for now as topic modeling might suggest better outputs using trigram or we might need to modify preprocessing a little bit to take out some extra words/adding new stop words "
   ]
  },
  {
   "cell_type": "code",
   "execution_count": 10,
   "metadata": {},
   "outputs": [],
   "source": [
    "# writing above codes to functions for summary, pro & con bi gram separately\n",
    "def bigram(text):\n",
    "    bigram = gensim.models.Phrases(text, min_count = 10, threshold = 100)\n",
    "    bigram_mod = gensim.models.phrases.Phraser(bigram)\n",
    "    \n",
    "    return [bigram_mod[doc] for doc in text]\n",
    "\n",
    "summary_list, pro_list, con_list = bigram(summary_list), bigram(pro_list),bigram(con_list)\n"
   ]
  },
  {
   "cell_type": "markdown",
   "metadata": {},
   "source": [
    "Since Summary has relatively short text, we'll try Pros and Cons for now\n",
    "<br>\n",
    "> Creating a dictionary & text corpus for Pros & Cons; <br>\n",
    "> Rewrite them into functions so that we can call it multiple times"
   ]
  },
  {
   "cell_type": "code",
   "execution_count": 11,
   "metadata": {},
   "outputs": [
    {
     "name": "stdout",
     "output_type": "stream",
     "text": [
      "[[(0, 2), (1, 1), (2, 1)]]\n",
      "[[('great', 2), ('people', 1), ('technology', 1)]]\n"
     ]
    }
   ],
   "source": [
    "import gensim.corpora as corpora\n",
    "\n",
    "# create dictionary (id2word)\n",
    "pro_dict = corpora.Dictionary(pro_list)\n",
    "# create mapping frequency(Corpus)\n",
    "pro_mapping = [pro_dict.doc2bow(text) for text in pro_list]\n",
    "\n",
    "# see mapping for dictionary\n",
    "print(pro_mapping[:1])\n",
    "\n",
    "# take a look at a more readable format\n",
    "print([[(pro_dict[key], freq) for key, freq in corpus] for corpus in pro_mapping[:1]])"
   ]
  },
  {
   "cell_type": "code",
   "execution_count": 12,
   "metadata": {},
   "outputs": [],
   "source": [
    "# now format above into function since we need pro & con\n",
    "def mapping(text):\n",
    "    '''using input text to create a fequency dictionary'''\n",
    "    id2word = corpora.Dictionary(text) #id2word\n",
    "    corpus = [id2word.doc2bow(text) for text in text] #corpus   \n",
    "    return id2word, corpus\n",
    "\n",
    "con_id2word, con_corpus = mapping(con_list)"
   ]
  },
  {
   "cell_type": "markdown",
   "metadata": {},
   "source": [
    "#### Building the LDA Model\n",
    "\n",
    "Steps:\n",
    "1. Preprocessing text into Corpus <br>\n",
    "    (*Use mapping function written above*)\n",
    "    1. Using Gensim Corpora to create a dictionary\n",
    "    2. Using mapping word frequency to corpus\n",
    "2. Generate LDA model using Gensim\n",
    "3. Compute model perplexity and coherence score\n",
    "4. Visualize model using pyLDAvis (optional)"
   ]
  },
  {
   "cell_type": "code",
   "execution_count": 13,
   "metadata": {},
   "outputs": [
    {
     "name": "stdout",
     "output_type": "stream",
     "text": [
      "[(0,\n",
      "  '0.039*\"product\" + 0.027*\"great\" + 0.022*\"good\" + 0.020*\"people\" + '\n",
      "  '0.019*\"technology\" + 0.018*\"close\" + 0.018*\"exciting\" + 0.015*\"edge\" + '\n",
      "  '0.015*\"passion\" + 0.014*\"present\"'),\n",
      " (1,\n",
      "  '0.112*\"good\" + 0.043*\"nice\" + 0.034*\"environment\" + 0.033*\"salary\" + '\n",
      "  '0.028*\"computer\" + 0.027*\"great\" + 0.025*\"discount\" + 0.021*\"company\" + '\n",
      "  '0.019*\"compare\" + 0.018*\"music\"'),\n",
      " (2,\n",
      "  '0.061*\"company\" + 0.054*\"work\" + 0.028*\"life\" + 0.020*\"good\" + '\n",
      "  '0.016*\"customer\" + 0.015*\"not\" + 0.015*\"experience\" + 0.014*\"innovative\" + '\n",
      "  '0.014*\"\\'s\" + 0.014*\"individual\"'),\n",
      " (3,\n",
      "  '0.098*\"great\" + 0.034*\"benefit\" + 0.032*\"discount\" + 0.030*\"company\" + '\n",
      "  '0.023*\"employee\" + 0.019*\"profile\" + 0.019*\"product\" + 0.016*\"stock\" + '\n",
      "  '0.015*\"management\" + 0.014*\"people\"'),\n",
      " (4,\n",
      "  '0.026*\"push\" + 0.026*\"easy\" + 0.024*\"people\" + 0.021*\"fire\" + '\n",
      "  '0.021*\"product\" + 0.021*\"chance\" + 0.020*\"current\" + 0.020*\"good\" + '\n",
      "  '0.019*\"free\" + 0.017*\"software\"'),\n",
      " (5,\n",
      "  '0.038*\"management\" + 0.035*\"steve\" + 0.035*\"great\" + 0.033*\"good\" + '\n",
      "  '0.031*\"team\" + 0.020*\"place\" + 0.020*\"open\" + 0.019*\"cv\" + 0.018*\"company\" '\n",
      "  '+ 0.018*\"environment\"'),\n",
      " (6,\n",
      "  '0.035*\"people\" + 0.027*\"be\" + 0.023*\"company\" + 0.023*\"iphone\" + '\n",
      "  '0.021*\"ipod\" + 0.021*\"good\" + 0.020*\"job\" + 0.016*\"thing\" + 0.015*\"like\" + '\n",
      "  '0.014*\"technology\"'),\n",
      " (7,\n",
      "  '0.051*\"excellent\" + 0.049*\"training\" + 0.042*\"sell\" + 0.038*\"people\" + '\n",
      "  '0.023*\"good\" + 0.023*\"amazing\" + 0.023*\"product\" + 0.023*\"company\" + '\n",
      "  '0.020*\"great\" + 0.019*\"highly\"'),\n",
      " (8,\n",
      "  '0.028*\"certainly\" + 0.025*\"opportunity\" + 0.022*\"learn\" + 0.020*\"great\" + '\n",
      "  '0.020*\"position\" + 0.018*\"new\" + 0.018*\"company\" + 0.018*\"lot\" + '\n",
      "  '0.015*\"dynamic\" + 0.015*\"developer\"'),\n",
      " (9,\n",
      "  '0.045*\"great\" + 0.034*\"look\" + 0.034*\"company\" + 0.029*\"fit\" + 0.027*\"good\" '\n",
      "  '+ 0.019*\"different\" + 0.018*\"transfer\" + 0.016*\"salary\" + 0.016*\"come\" + '\n",
      "  '0.015*\"entire\"')]\n"
     ]
    }
   ],
   "source": [
    "lda_pro = gensim.models.ldamodel.LdaModel(corpus = pro_mapping, \n",
    "                                          num_topics = 10,\n",
    "                                          random_state = 12345,\n",
    "                                          id2word = pro_dict, \n",
    "                                          alpha = 'auto')\n",
    "\n",
    "pprint(lda_pro.print_topics())\n"
   ]
  },
  {
   "cell_type": "markdown",
   "metadata": {},
   "source": [
    "Computing Model Perplexity and Coherence Score"
   ]
  },
  {
   "cell_type": "code",
   "execution_count": 14,
   "metadata": {},
   "outputs": [
    {
     "name": "stdout",
     "output_type": "stream",
     "text": [
      "\n",
      "Perplexity: -7.45862123648\n",
      "\n",
      "Coherence Score: 0.36294926267\n"
     ]
    }
   ],
   "source": [
    "from gensim.models import CoherenceModel\n",
    "\n",
    "print('\\nPerplexity:', lda_pro.log_perplexity(pro_mapping)) # the lower the better\n",
    "\n",
    "coherence_model_pro = CoherenceModel(model = lda_pro, \n",
    "                                     texts = pro_list, \n",
    "                                     dictionary = pro_dict, \n",
    "                                     coherence = 'c_v')\n",
    "coherence_lda_pro = coherence_model_pro.get_coherence()\n",
    "\n",
    "print('\\nCoherence Score:', coherence_lda_pro)"
   ]
  },
  {
   "cell_type": "markdown",
   "metadata": {},
   "source": [
    "Now Visualize the topics (taking out for now)"
   ]
  },
  {
   "cell_type": "code",
   "execution_count": 15,
   "metadata": {},
   "outputs": [],
   "source": [
    "# # Plotting tools\n",
    "# import pyLDAvis\n",
    "# import pyLDAvis.gensim  # don't skip this\n",
    "\n",
    "# import warnings\n",
    "# warnings.filterwarnings(action='ignore', category=FutureWarning)\n",
    "\n",
    "# pyLDAvis.enable_notebook()\n",
    "# vis_pro = pyLDAvis.gensim.prepare(lda_pro, pro_mapping, pro_dict) \n",
    "# pyLDAvis.display(vis_pro)"
   ]
  },
  {
   "cell_type": "markdown",
   "metadata": {},
   "source": [
    "#### Now that we got a working model, here are a few things we still need to do:\n",
    "1. Apply the same process to get df_clean.con results\n",
    "2. Find the optimal number of topic per text corpus\n",
    "3. Find dominant topic per review (pro & con)   *--to be added later*\n",
    "4. Find most representative document for each topic   *--to be added later*"
   ]
  },
  {
   "cell_type": "markdown",
   "metadata": {},
   "source": [
    "---\n",
    "Also, with both Pro & Con Topic Modeling, we can see that there are some works that doesn't really add meanings to the topic, we want to try to add those to our customized stopwords dictionary and subsequently remove those. <br>\n",
    "Words appeared in topic modeling that be added to stopwords:\n",
    "- be\n",
    "- apple\n",
    "- retail\n",
    "- work\n",
    "\n",
    "*(Going back to Input 3 & adding stopwords)*"
   ]
  },
  {
   "cell_type": "code",
   "execution_count": 16,
   "metadata": {},
   "outputs": [],
   "source": [
    "def ldamod(source_list, num_topics):\n",
    "    '''input list of text and number of topics then return a ldamodel\n",
    "    and it's perplexity and coherence score '''\n",
    "    id2word_text, corpus_text = mapping(source_list)\n",
    "    lda_model = gensim.models.ldamodel.LdaModel(corpus = corpus_text,\n",
    "                                               num_topics = num_topics,\n",
    "                                               random_state = 12345,\n",
    "                                               id2word = id2word_text,\n",
    "                                               alpha = 'auto')\n",
    "    \n",
    "    coherence_model = CoherenceModel(model = lda_model, \n",
    "                                     texts = source_list,\n",
    "                                    dictionary = id2word_text,\n",
    "                                    coherence = 'c_v')\n",
    "    coherence_score = coherence_model.get_coherence()\n",
    "    \n",
    "#     pprint(lda_model.print_topics())\n",
    "#     print('Perplexity Score: ', lda_model.log_perplexity(corpus_text))\n",
    "#     print('Coherence Score: ',coherence_score)\n",
    "    \n",
    "    return lda_model, coherence_score"
   ]
  },
  {
   "cell_type": "code",
   "execution_count": 17,
   "metadata": {},
   "outputs": [],
   "source": [
    "con_model, con_coherence_score = ldamod(con_list, 10)"
   ]
  },
  {
   "cell_type": "markdown",
   "metadata": {},
   "source": [
    "Now we want to utilize coherence score to get the optimal number of topics"
   ]
  },
  {
   "cell_type": "code",
   "execution_count": 18,
   "metadata": {},
   "outputs": [],
   "source": [
    "def coherence_scorelist(source_list, num_topics_lower, num_topics_upper):\n",
    "    '''using coherence score to determin optimal topics:\n",
    "    Input a source list of comments and return a list of coherence score generated by all those LDA models\n",
    "    via lower/upper limit as number of topics in the model'''\n",
    "    \n",
    "    coherence_list = []\n",
    "    model_list=[]\n",
    "    topics = []\n",
    "    for i in range(num_topics_lower, num_topics_upper):\n",
    "        lda_model_i, coherence_score_i = ldamod(source_list, i)\n",
    "        coherence_list.append(coherence_score_i)\n",
    "        model_list.append(lda_model_i)\n",
    "        topics.append(i)\n",
    "\n",
    "    return coherence_list, model_list, topics"
   ]
  },
  {
   "cell_type": "code",
   "execution_count": 19,
   "metadata": {},
   "outputs": [],
   "source": [
    "con_coherence_score, con_model_list, con_topics = coherence_scorelist(con_list, 2, 40)"
   ]
  },
  {
   "cell_type": "code",
   "execution_count": 20,
   "metadata": {},
   "outputs": [
    {
     "data": {
      "image/png": "[encoded data removed]",
      "text/plain": [
       "<Figure size 432x288 with 1 Axes>"
      ]
     },
     "metadata": {},
     "output_type": "display_data"
    }
   ],
   "source": [
    "con_x = np.array(con_topics)\n",
    "con_y = np.array(con_coherence_score)\n",
    "\n",
    "plt.plot(con_x,con_y)\n",
    "plt.title('Con Topics')\n",
    "plt.xlabel('Number of Topics')\n",
    "plt.ylabel('Coherence Score')\n",
    "plt.show()"
   ]
  },
  {
   "cell_type": "code",
   "execution_count": 21,
   "metadata": {},
   "outputs": [
    {
     "data": {
      "text/plain": [
       "{2: 0.53893062540119785,\n",
       " 3: 0.50364874096531242,\n",
       " 4: 0.48842352569536562,\n",
       " 5: 0.44993582801062271,\n",
       " 6: 0.43601502164674072,\n",
       " 7: 0.40047295804907945,\n",
       " 8: 0.42625153775456348,\n",
       " 9: 0.41055715932589809,\n",
       " 10: 0.40028972422894682,\n",
       " 11: 0.39395742023366631,\n",
       " 12: 0.4067141870735293,\n",
       " 13: 0.38986811236440377,\n",
       " 14: 0.35071304776231232,\n",
       " 15: 0.36953757354631711,\n",
       " 16: 0.37167720900214235,\n",
       " 17: 0.36771757564095325,\n",
       " 18: 0.36295936322683359,\n",
       " 19: 0.36924297750629947,\n",
       " 20: 0.36216596682663782,\n",
       " 21: 0.34777304685523197,\n",
       " 22: 0.35898732917997783,\n",
       " 23: 0.37117233868767308,\n",
       " 24: 0.3554053680520442,\n",
       " 25: 0.3869223702160462,\n",
       " 26: 0.37700153393629726,\n",
       " 27: 0.3656740731069163,\n",
       " 28: 0.37814588511486552,\n",
       " 29: 0.3736123270388233,\n",
       " 30: 0.36954446841339011,\n",
       " 31: 0.38509712993020812,\n",
       " 32: 0.38203866274400344,\n",
       " 33: 0.39382934484855392,\n",
       " 34: 0.39722912730278637,\n",
       " 35: 0.38574563087626568,\n",
       " 36: 0.39339720486677143,\n",
       " 37: 0.39242941868588788,\n",
       " 38: 0.39409742902389328,\n",
       " 39: 0.37061293944312762}"
      ]
     },
     "execution_count": 21,
     "metadata": {},
     "output_type": "execute_result"
    }
   ],
   "source": [
    "temp_dict = dict(zip(con_topics,con_coherence_score))\n",
    "temp_dict"
   ]
  },
  {
   "cell_type": "code",
   "execution_count": 22,
   "metadata": {},
   "outputs": [
    {
     "name": "stdout",
     "output_type": "stream",
     "text": [
      "[(0,\n",
      "  '0.029*\"career\" + 0.020*\"progression\" + 0.020*\"time\" + 0.019*\"level\" + '\n",
      "  '0.017*\"store\" + 0.015*\"noise\" + 0.015*\"extent\" + 0.015*\"crunch\" + '\n",
      "  '0.015*\"e.g.\" + 0.015*\"applicable\"'),\n",
      " (1,\n",
      "  '0.035*\"management\" + 0.017*\"senior\" + 0.017*\"closely\" + 0.017*\"expand\" + '\n",
      "  '0.016*\"stingy\" + 0.016*\"2nd\" + 0.016*\"coaster\" + 0.016*\"roller\" + '\n",
      "  '0.016*\"double\" + 0.015*\"people\"'),\n",
      " (2,\n",
      "  '0.027*\"customer\" + 0.025*\"time\" + 0.021*\"job\" + 0.020*\"management\" + '\n",
      "  '0.020*\"long\" + 0.019*\"loud\" + 0.019*\"product\" + 0.019*\"rude\" + '\n",
      "  '0.017*\"system\" + 0.016*\"employee\"'),\n",
      " (3,\n",
      "  '0.042*\"schedule\" + 0.032*\"evening\" + 0.032*\"formal\" + 0.032*\"mba\" + '\n",
      "  '0.032*\"not\" + 0.029*\"advancement\" + 0.025*\"room\" + 0.019*\"feedback\" + '\n",
      "  '0.016*\"hour\" + 0.016*\"advance\"'),\n",
      " (4,\n",
      "  '0.037*\"customer\" + 0.027*\"be\" + 0.020*\"not\" + 0.020*\"bonus\" + '\n",
      "  '0.020*\"commission\" + 0.018*\"negative\" + 0.017*\"bar\" + 0.017*\"school\" + '\n",
      "  '0.017*\"percent\" + 0.017*\"metric\"'),\n",
      " (5,\n",
      "  '0.023*\"organize\" + 0.023*\"be\" + 0.023*\"product\" + 0.023*\"communication\" + '\n",
      "  '0.023*\"release\" + 0.023*\"criticism\" + 0.022*\"surprisingly\" + '\n",
      "  '0.022*\"overload\" + 0.022*\"marketplace\" + 0.021*\"it)-\"'),\n",
      " (6,\n",
      "  '0.035*\"managment\" + 0.035*\"action\" + 0.035*\"recruit\" + 0.035*\"equipment\" + '\n",
      "  '0.032*\"beware\" + 0.022*\"long\" + 0.020*\"call\" + 0.019*\"like\" + 0.018*\"not\" + '\n",
      "  '0.017*\"bad\"'),\n",
      " (7,\n",
      "  '0.036*\"pay\" + 0.031*\"think\" + 0.025*\"compare\" + 0.022*\"salary\" + '\n",
      "  '0.021*\"know\" + 0.018*\"low\" + 0.015*\"sell\" + 0.014*\"company\" + 0.014*\"look\" '\n",
      "  '+ 0.013*\"manager\"'),\n",
      " (8,\n",
      "  '0.031*\"employee\" + 0.029*\"confidential\" + 0.028*\"rule\" + 0.028*\"difficult\" '\n",
      "  '+ 0.026*\"pay\" + 0.025*\"discount\" + 0.025*\"holiday\" + 0.020*\"time\" + '\n",
      "  '0.017*\"request\" + 0.016*\"terrible\"'),\n",
      " (9,\n",
      "  '0.031*\"store\" + 0.029*\"not\" + 0.024*\"like\" + 0.019*\"come\" + '\n",
      "  '0.017*\"difference\" + 0.016*\"management\" + 0.016*\"little\" + 0.013*\"idea\" + '\n",
      "  '0.012*\"lack\" + 0.012*\"prefer\"'),\n",
      " (10,\n",
      "  '0.041*\"issue\" + 0.029*\"complain\" + 0.028*\"customer\" + 0.028*\"area\" + '\n",
      "  '0.027*\"relate\" + 0.026*\"lack\" + 0.026*\"sale\" + 0.016*\"product\" + '\n",
      "  '0.015*\"planning\" + 0.015*\"manage\"'),\n",
      " (11,\n",
      "  '0.036*\"purchase\" + 0.025*\"company\" + 0.024*\"management\" + 0.019*\"nearly\" + '\n",
      "  '0.018*\"particularly\" + 0.018*\"critical\" + 0.018*\"position\" + '\n",
      "  '0.018*\"lacking\" + 0.018*\"amount\" + 0.018*\"career\"'),\n",
      " (12,\n",
      "  '0.030*\"time\" + 0.030*\"be\" + 0.028*\"work\" + 0.028*\"staff\" + 0.026*\"sign\" + '\n",
      "  '0.020*\"job\" + 0.015*\"management\" + 0.013*\"enter\" + 0.013*\"frustrate\" + '\n",
      "  '0.013*\"minimal\"'),\n",
      " (13,\n",
      "  '0.023*\"management\" + 0.021*\"be\" + 0.018*\"employee\" + 0.017*\"store\" + '\n",
      "  '0.015*\"like\" + 0.015*\"not\" + 0.013*\"expect\" + 0.013*\"people\" + '\n",
      "  '0.013*\"genius\" + 0.012*\"speak\"')]\n"
     ]
    }
   ],
   "source": [
    "con_topic_output = dict(zip(con_topics, con_model_list))\n",
    "\n",
    "#getting # of topics = 14\n",
    "pprint(con_topic_output.get(14).print_topics())"
   ]
  },
  {
   "cell_type": "markdown",
   "metadata": {},
   "source": [
    "Seems like topic start to flat out starting around 15-ish topics in Con Topics"
   ]
  },
  {
   "cell_type": "code",
   "execution_count": 23,
   "metadata": {},
   "outputs": [
    {
     "data": {
      "image/png": "[encoded data removed]",
      "text/plain": [
       "<Figure size 432x288 with 1 Axes>"
      ]
     },
     "metadata": {},
     "output_type": "display_data"
    }
   ],
   "source": [
    "pro_coherence_score, pro_model_list, pro_topics = coherence_scorelist(pro_list, 2,40)\n",
    "\n",
    "plt.plot(np.array(pro_topics), np.array(pro_coherence_score))\n",
    "plt.title('Pro Topics')\n",
    "plt.xlabel('Number of Topics')\n",
    "plt.ylabel('Coherence Score')\n",
    "plt.show()"
   ]
  },
  {
   "cell_type": "markdown",
   "metadata": {},
   "source": [
    "Seems like 11 Topics would be better"
   ]
  },
  {
   "cell_type": "code",
   "execution_count": 24,
   "metadata": {},
   "outputs": [
    {
     "name": "stdout",
     "output_type": "stream",
     "text": [
      "[(0,\n",
      "  '0.068*\"product\" + 0.039*\"great\" + 0.034*\"good\" + 0.033*\"people\" + '\n",
      "  '0.027*\"fire\" + 0.021*\"exciting\" + 0.019*\"fun\" + 0.018*\"atmosphere\" + '\n",
      "  '0.018*\"price\" + 0.017*\"spectacular\"'),\n",
      " (1,\n",
      "  '0.094*\"good\" + 0.043*\"nice\" + 0.039*\"discount\" + 0.037*\"iphone\" + '\n",
      "  '0.023*\"environment\" + 0.022*\"time\" + 0.020*\"computer\" + 0.019*\"salary\" + '\n",
      "  '0.018*\"company\" + 0.018*\"free\"'),\n",
      " (2,\n",
      "  '0.048*\"work\" + 0.032*\"company\" + 0.021*\"close\" + 0.019*\"like\" + '\n",
      "  '0.016*\"consumer\" + 0.016*\"bored\" + 0.016*\"people\" + 0.016*\"dynamic\" + '\n",
      "  '0.016*\"give\" + 0.015*\"edge\"'),\n",
      " (3,\n",
      "  '0.103*\"great\" + 0.048*\"benefit\" + 0.032*\"discount\" + 0.028*\"employee\" + '\n",
      "  '0.027*\"profile\" + 0.025*\"company\" + 0.023*\"stock\" + 0.018*\"people\" + '\n",
      "  '0.016*\"good\" + 0.015*\"healthcare\"'),\n",
      " (4,\n",
      "  '0.060*\"great\" + 0.057*\"people\" + 0.034*\"salary\" + 0.026*\"good\" + '\n",
      "  '0.026*\"day\" + 0.021*\"learn\" + 0.020*\"retailer\" + 0.020*\"online\" + '\n",
      "  '0.020*\"co_worker\" + 0.020*\"sell\"'),\n",
      " (5,\n",
      "  '0.043*\"management\" + 0.041*\"great\" + 0.029*\"good\" + 0.028*\"team\" + '\n",
      "  '0.019*\"place\" + 0.017*\"environment\" + 0.017*\"environment-\" + 0.017*\"seek\" + '\n",
      "  '0.017*\"consistent\" + 0.017*\"employer\"'),\n",
      " (6,\n",
      "  '0.034*\"be\" + 0.023*\"technology\" + 0.020*\"life\" + 0.018*\"company\" + '\n",
      "  '0.017*\"people\" + 0.017*\"thing\" + 0.017*\"good\" + 0.017*\"customer\" + '\n",
      "  '0.015*\"know\" + 0.014*\"store\"'),\n",
      " (7,\n",
      "  '0.046*\"fit\" + 0.038*\"people\" + 0.034*\"company\" + 0.023*\"train\" + '\n",
      "  '0.023*\"touch\" + 0.023*\"expectation\" + 0.023*\"enthusiastic\" + '\n",
      "  '0.021*\"positive\" + 0.018*\"good\" + 0.016*\"amazing\"'),\n",
      " (8,\n",
      "  '0.031*\"certainly\" + 0.030*\"push\" + 0.027*\"internal\" + 0.025*\"let\" + '\n",
      "  '0.021*\"great\" + 0.019*\"opportunity\" + 0.018*\"position\" + 0.016*\"say\" + '\n",
      "  '0.016*\"enhance\" + 0.016*\"numerous\"'),\n",
      " (9,\n",
      "  '0.035*\"look\" + 0.033*\"good\" + 0.027*\"job\" + 0.026*\"company\" + '\n",
      "  '0.025*\"service\" + 0.025*\"great\" + 0.023*\"high\" + 0.021*\"excellent\" + '\n",
      "  '0.018*\"training\" + 0.017*\"make\"'),\n",
      " (10,\n",
      "  '0.072*\"company\" + 0.048*\"ipod\" + 0.026*\"steve\" + 0.022*\"great\" + '\n",
      "  '0.022*\"work\" + 0.018*\"current\" + 0.017*\"come\" + 0.016*\"unique\" + '\n",
      "  '0.015*\"opportunity\" + 0.014*\"cv\"')]\n"
     ]
    }
   ],
   "source": [
    "pro_topic_output = dict(zip(pro_topics, pro_model_list))\n",
    "\n",
    "pprint(pro_topic_output.get(11).print_topics())"
   ]
  }
 ],
 "metadata": {
  "kernelspec": {
   "display_name": "Python 3",
   "language": "python",
   "name": "python3"
  },
  "language_info": {
   "codemirror_mode": {
    "name": "ipython",
    "version": 3
   },
   "file_extension": ".py",
   "mimetype": "text/x-python",
   "name": "python",
   "nbconvert_exporter": "python",
   "pygments_lexer": "ipython3",
   "version": "3.6.5"
  },
  "varInspector": {
   "cols": {
    "lenName": 16,
    "lenType": 16,
    "lenVar": 40
   },
   "kernels_config": {
    "python": {
     "delete_cmd_postfix": "",
     "delete_cmd_prefix": "del ",
     "library": "var_list.py",
     "varRefreshCmd": "print(var_dic_list())"
    },
    "r": {
     "delete_cmd_postfix": ") ",
     "delete_cmd_prefix": "rm(",
     "library": "var_list.r",
     "varRefreshCmd": "cat(var_dic_list()) "
    }
   },
   "oldHeight": 713.666666,
   "position": {
    "height": "40px",
    "left": "1691px",
    "right": "20px",
    "top": "144px",
    "width": "627px"
   },
   "types_to_exclude": [
    "module",
    "function",
    "builtin_function_or_method",
    "instance",
    "_Feature"
   ],
   "varInspector_section_display": "none",
   "window_display": true
  }
 },
 "nbformat": 4,
 "nbformat_minor": 2
}
